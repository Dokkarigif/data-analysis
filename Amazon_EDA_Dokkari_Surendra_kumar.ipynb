{
  "nbformat": 4,
  "nbformat_minor": 0,
  "metadata": {
    "colab": {
      "private_outputs": true,
      "provenance": [],
      "collapsed_sections": [
        "w6K7xa23Elo4",
        "mDgbUHAGgjLW",
        "r2jJGEOYphqO",
        "b0JNsNcRphqO",
        "gIfDvo9L0UH2"
      ]
    },
    "kernelspec": {
      "name": "python3",
      "display_name": "Python 3"
    },
    "language_info": {
      "name": "python"
    }
  },
  "cells": [
    {
      "cell_type": "code",
      "source": [],
      "metadata": {
        "id": "I1apcow5dxii"
      },
      "execution_count": null,
      "outputs": []
    },
    {
      "cell_type": "markdown",
      "source": [
        "# **Project Name**    -\n",
        "\n"
      ],
      "metadata": {
        "id": "vncDsAP0Gaoa"
      }
    },
    {
      "cell_type": "markdown",
      "source": [
        "##### **Project Name**    - Exploratory Data Analysis of Amazon prime video content library\n",
        "##### **Contribution** - Individual\n"
      ],
      "metadata": {
        "id": "beRrZCGUAJYm"
      }
    },
    {
      "cell_type": "markdown",
      "source": [
        "# **Project Summary -**"
      ],
      "metadata": {
        "id": "FJNUwmbgGyua"
      }
    },
    {
      "cell_type": "markdown",
      "source": [
        "The objective of this project is to conduct an in-depth Exploratory Data Analysis (EDA) on a dataset containing metadata from Amazon Prime Video's content library. This analysis aims to explore and understand the distribution and patterns of TV shows and movies available on the platform. The focus is on key features such as content type, genre, rating, runtime, regional availability, popularity scores (IMDb, TMDB), and release years. The project further aims to derive meaningful business insights that can guide data-driven decisions for content strategy and user engagement.\n",
        "\n",
        "**Key Steps**\n",
        "1. **Data Collection and Cleaning**\n",
        "The project utilized two separate but related datasets: one containing detailed information about content (movies and shows), and another about people (actors, directors, writers, etc.). These datasets were merged using a common key to form a comprehensive DataFrame. The data cleaning process involved:\n",
        "\n",
        "*   Handling missing and null values\n",
        "*   Removing duplicate records (168 found and removed)\n",
        "*   Converting data types\n",
        "*  Renaming and transforming columns for consistency\n",
        "* Creating derived variables (e.g., content decade, score categories)\n",
        "\n",
        "   This step ensured that the dataset was analysis-ready, structured, and of high integrity.\n",
        "\n",
        "2.** Data Visualization**\n",
        "A wide range of visual tools and libraries such as Matplotlib and Seaborn were used to understand variable distributions and relationships. The charts used include:\n",
        "\n",
        "*  Bar plots (e.g., content type, country-wise distribution)\n",
        "\n",
        "* Line plots (content growth over time)\n",
        "\n",
        "* Pie charts (age certification distribution)\n",
        "\n",
        "* Scatter plots (e.g., IMDb score vs TMDB popularity)\n",
        "\n",
        "* Heatmaps and pairplots for correlation and multivariate analysis\n",
        "\n",
        "\n",
        "Each chart was chosen based on the nature of data and the specific insight it was expected to uncover.\n",
        "\n",
        "3. **Key Insights**\n",
        "**Content Type:** Movies dominate the platform compared to TV shows.\n",
        "\n",
        "**Genre Popularity:** Drama and Comedy are the most frequent genres, followed by Documentary and Action.\n",
        "\n",
        "**Release Trends:** A noticeable increase in content release was observed post-2010, showing Amazon’s growing investment in streaming.\n",
        "\n",
        "**Seasons:** TV shows tend to have more seasons over time, indicating stronger user retention strategies.\n",
        "\n",
        "**Age Certification:** Majority of content is rated for mature audiences (TV-MA and R).\n",
        "\n",
        "**IMDb & TMDB Scores:** Most content scores between 6–7; no strong correlation between scores and popularity.\n",
        "\n",
        "**Top Countries:** USA is the leading content producer, followed by India and the UK.\n",
        "\n",
        "\n",
        "\n",
        "**Conclusion and Business Recommendations**\n",
        "\n",
        "This analysis helps understand the streaming content landscape on Amazon Prime Video. The client can use these insights to:\n",
        "\n",
        "*   Diversify content with more family-friendly or youth-targeted genres\n",
        "\n",
        "* Optimize investments in high-performing genres and creators\n",
        "\n",
        "* Expand regional content in fast-growing markets like India and Brazil\n",
        "\n",
        "* Leverage viewer ratings and popularity metrics for personalized recommendations\n",
        "\n",
        "\n",
        "The insights drawn provide valuable guidance for future content acquisition, production, and user experience strategies. Future research can dive deeper into user engagement data, viewer sentiment, and revenue-related KPIs for a more business-centric approach.\n",
        "\n",
        "\n"
      ],
      "metadata": {
        "id": "F6v_1wHtG2nS"
      }
    },
    {
      "cell_type": "markdown",
      "source": [
        "# **GitHub Link -**"
      ],
      "metadata": {
        "id": "w6K7xa23Elo4"
      }
    },
    {
      "cell_type": "markdown",
      "source": [
        "Provide your GitHub Link here."
      ],
      "metadata": {
        "id": "h1o69JH3Eqqn"
      }
    },
    {
      "cell_type": "markdown",
      "source": [
        "# **Problem Statement**\n"
      ],
      "metadata": {
        "id": "yQaldy8SH6Dl"
      }
    },
    {
      "cell_type": "markdown",
      "source": [
        "Amazon Prime Video has a vast and growing library of movies and TV shows available to users across different regions. However, understanding content performance, genre popularity, regional trends, and quality ratings is challenging without structured analysis. The platform lacks clear visibility into how different content types are distributed, what genres perform best, and how audience preferences vary over time and region. This lack of insight can impact content acquisition decisions, marketing strategies, and customer retention efforts.\n",
        "\n",
        "To optimize its streaming strategy, Amazon Prime Video needs a detailed exploratory analysis of its content catalog. This should include understanding trends in content release, viewer ratings, content runtime, and distribution across countries and certifications."
      ],
      "metadata": {
        "id": "DpeJGUA3kjGy"
      }
    },
    {
      "cell_type": "markdown",
      "source": [
        "#### **Define Your Business Objective?**"
      ],
      "metadata": {
        "id": "PH-0ReGfmX4f"
      }
    },
    {
      "cell_type": "markdown",
      "source": [
        "The primary objective of this project is to conduct Exploratory Data Analysis (EDA) on Amazon Prime Video’s content dataset to uncover meaningful trends and insights. Specifically, this project aims to:\n",
        "\n",
        "Analyze the distribution of movies and TV shows across genres, years, and regions.\n",
        "\n",
        "Evaluate content quality and popularity using IMDb and TMDB scores.\n",
        "\n",
        "Identify trends in viewer preferences such as runtime, content types, and age certifications.\n",
        "\n",
        "Detect regional production patterns, focusing on the top contributing countries.\n",
        "\n",
        "Highlight missing or underrepresented areas in the content catalog that can be improved.\n",
        "\n",
        "Support data-driven decision-making for content creation, licensing, and personalization.\n",
        "\n",
        "By achieving these goals, Amazon Prime Video can make informed decisions that improve user satisfaction, boost content engagement, and enhance competitive positioning in the streaming market."
      ],
      "metadata": {
        "id": "PhDvGCAqmjP1"
      }
    },
    {
      "cell_type": "markdown",
      "source": [
        "# **General Guidelines** : -  "
      ],
      "metadata": {
        "id": "mDgbUHAGgjLW"
      }
    },
    {
      "cell_type": "markdown",
      "source": [
        "1.   Well-structured, formatted, and commented code is required.\n",
        "2.   Exception Handling, Production Grade Code & Deployment Ready Code will be a plus. Those students will be awarded some additional credits.\n",
        "     \n",
        "     The additional credits will have advantages over other students during Star Student selection.\n",
        "       \n",
        "             [ Note: - Deployment Ready Code is defined as, the whole .ipynb notebook should be executable in one go\n",
        "                       without a single error logged. ]\n",
        "\n",
        "3.   Each and every logic should have proper comments.\n",
        "4. You may add as many number of charts you want. Make Sure for each and every chart the following format should be answered.\n",
        "        \n",
        "\n",
        "```\n",
        "# Chart visualization code\n",
        "```\n",
        "            \n",
        "\n",
        "*   Why did you pick the specific chart?\n",
        "*   What is/are the insight(s) found from the chart?\n",
        "* Will the gained insights help creating a positive business impact?\n",
        "Are there any insights that lead to negative growth? Justify with specific reason.\n",
        "\n",
        "5. You have to create at least 20 logical & meaningful charts having important insights.\n",
        "\n",
        "\n",
        "[ Hints : - Do the Vizualization in  a structured way while following \"UBM\" Rule.\n",
        "\n",
        "U - Univariate Analysis,\n",
        "\n",
        "B - Bivariate Analysis (Numerical - Categorical, Numerical - Numerical, Categorical - Categorical)\n",
        "\n",
        "M - Multivariate Analysis\n",
        " ]\n",
        "\n",
        "\n",
        "\n"
      ],
      "metadata": {
        "id": "ZrxVaUj-hHfC"
      }
    },
    {
      "cell_type": "markdown",
      "source": [
        "# ***Let's Begin !***"
      ],
      "metadata": {
        "id": "O_i_v8NEhb9l"
      }
    },
    {
      "cell_type": "markdown",
      "source": [
        "## ***1. Know Your Data***"
      ],
      "metadata": {
        "id": "HhfV-JJviCcP"
      }
    },
    {
      "cell_type": "markdown",
      "source": [
        "### Import Libraries"
      ],
      "metadata": {
        "id": "Y3lxredqlCYt"
      }
    },
    {
      "cell_type": "code",
      "source": [
        "# Import Libraries\n",
        "import pandas as pd\n",
        "import numpy as np\n",
        "import matplotlib.pyplot as plt\n",
        "import seaborn as sns\n",
        "import warnings\n",
        "\n",
        "warnings.filterwarnings(\"ignore\")\n"
      ],
      "metadata": {
        "id": "M8Vqi-pPk-HR"
      },
      "execution_count": null,
      "outputs": []
    },
    {
      "cell_type": "markdown",
      "source": [
        "### Dataset Loading"
      ],
      "metadata": {
        "id": "3RnN4peoiCZX"
      }
    },
    {
      "cell_type": "code",
      "source": [
        "# Load Dataset\n",
        "df1 = pd.read_csv('/content/credits.csv')\n",
        "df2 = pd.read_csv('/content/titles.csv')\n",
        "merged_df = pd.merge(df1, df2, on='id', how='inner')\n",
        "merged_df\n",
        "\n"
      ],
      "metadata": {
        "id": "4CkvbW_SlZ_R"
      },
      "execution_count": null,
      "outputs": []
    },
    {
      "cell_type": "markdown",
      "source": [
        "### Dataset First View"
      ],
      "metadata": {
        "id": "x71ZqKXriCWQ"
      }
    },
    {
      "cell_type": "code",
      "source": [
        "# Dataset First Look\n",
        "merged_df.head()"
      ],
      "metadata": {
        "id": "LWNFOSvLl09H"
      },
      "execution_count": null,
      "outputs": []
    },
    {
      "cell_type": "markdown",
      "source": [
        "### Dataset Rows & Columns count"
      ],
      "metadata": {
        "id": "7hBIi_osiCS2"
      }
    },
    {
      "cell_type": "code",
      "source": [
        "# Dataset Rows & Columns count\n",
        "merged_df.shape"
      ],
      "metadata": {
        "id": "Kllu7SJgmLij"
      },
      "execution_count": null,
      "outputs": []
    },
    {
      "cell_type": "markdown",
      "source": [
        "### Dataset Information"
      ],
      "metadata": {
        "id": "JlHwYmJAmNHm"
      }
    },
    {
      "cell_type": "code",
      "source": [
        "# Dataset Info\n",
        "merged_df.info()"
      ],
      "metadata": {
        "id": "e9hRXRi6meOf"
      },
      "execution_count": null,
      "outputs": []
    },
    {
      "cell_type": "markdown",
      "source": [
        "#### Duplicate Values"
      ],
      "metadata": {
        "id": "35m5QtbWiB9F"
      }
    },
    {
      "cell_type": "code",
      "source": [
        "# Dataset Duplicate Value Count\n",
        "merged_df.duplicated().sum()"
      ],
      "metadata": {
        "id": "1sLdpKYkmox0"
      },
      "execution_count": null,
      "outputs": []
    },
    {
      "cell_type": "markdown",
      "source": [
        "#### Missing Values/Null Values"
      ],
      "metadata": {
        "id": "PoPl-ycgm1ru"
      }
    },
    {
      "cell_type": "code",
      "source": [
        "# Missing Values/Null Values Count\n",
        "merged_df.isnull().sum()"
      ],
      "metadata": {
        "id": "GgHWkxvamxVg"
      },
      "execution_count": null,
      "outputs": []
    },
    {
      "cell_type": "code",
      "source": [
        "# Visualizing the missing values\n",
        "merged_df.isnull().sum().plot(kind='bar')\n",
        "plt.show()"
      ],
      "metadata": {
        "id": "3q5wnI3om9sJ"
      },
      "execution_count": null,
      "outputs": []
    },
    {
      "cell_type": "markdown",
      "source": [
        "### What did you know about your dataset?"
      ],
      "metadata": {
        "id": "H0kj-8xxnORC"
      }
    },
    {
      "cell_type": "markdown",
      "source": [
        "The dataset contains 124,347 rows and 19 columns after merging.\n",
        "\n",
        "It appears to be related to movies or TV shows and their associated personnel (like actors, directors, etc.).\n",
        "\n",
        "The data includes details such as:\n",
        "\n",
        "Titles, genres, release year, age certification, runtime\n",
        "\n",
        "IMDb and TMDb ratings/votes\n",
        "\n",
        "People involved (name, role, character)\n",
        "\n",
        "The column person_id connects people to content, likely from a cast/crew dataset.\n",
        "\n",
        "Some variables have missing values:\n",
        "\n",
        "age_certification (~54% missing)\n",
        "\n",
        "seasons (missing for most entries, likely because many are movies)\n",
        "\n",
        "imdb_score, imdb_votes, tmdb_score have some missing entries\n",
        "\n",
        "character is missing in many rows (possibly for crew or non-actors)\n",
        "\n",
        "There are 168 duplicate rows, which can be safely removed during data cleaning.\n",
        "\n",
        "The data types are mostly appropriate (strings, integers, floats), but columns like seasons may need special handling (many NaN values).\n",
        "\n",
        "Overall, this is a rich dataset ideal for EDA, with a combination of:\n",
        "\n",
        "Categorical data (genre, type, role, certification)\n",
        "\n",
        "Numerical data (ratings, votes, runtime)\n",
        "\n",
        "Textual data (title, description)"
      ],
      "metadata": {
        "id": "gfoNAAC-nUe_"
      }
    },
    {
      "cell_type": "markdown",
      "source": [
        "## ***2. Understanding Your Variables***"
      ],
      "metadata": {
        "id": "nA9Y7ga8ng1Z"
      }
    },
    {
      "cell_type": "code",
      "source": [
        "# Dataset Columns\n",
        "merged_df.columns"
      ],
      "metadata": {
        "id": "j7xfkqrt5Ag5"
      },
      "execution_count": null,
      "outputs": []
    },
    {
      "cell_type": "code",
      "source": [
        "# Dataset Describe\n",
        "merged_df.describe()\n"
      ],
      "metadata": {
        "id": "DnOaZdaE5Q5t"
      },
      "execution_count": null,
      "outputs": []
    },
    {
      "cell_type": "markdown",
      "source": [
        "### Variables Description"
      ],
      "metadata": {
        "id": "PBTbrJXOngz2"
      }
    },
    {
      "cell_type": "markdown",
      "source": [
        "Column Name\t                    Description\n",
        "id\t           Unique identifier for each content item (movie/show).\n",
        "title         \tName of the movie or TV show.\n",
        "type\t          Type of content — usually \"MOVIE\" or \"SHOW\".\n",
        "description\t    Text summary or synopsis of the content.\n",
        "release_year\t   The year the content was released.\n",
        "age_certification\tAge rating (e.g., PG, R, U/A) assigned to the content.\n",
        "runtime\t         Duration of the movie/show in minutes.\n",
        "genres\t         Genre(s) of the content (e.g., Action, Drama).\n",
        "production_countries\tCountry or countries that produced the content.\n",
        "seasons\t   Number of seasons (if it's a TV show). Mostly NaN for movies.\n",
        "imdb_id\t          IMDb unique ID for the content.\n",
        "imdb_score\t      IMDb rating (typically from 1 to 10).\n",
        "imdb_votes\t       Number of IMDb user votes.\n",
        "tmdb_popularity\t   Popularity score from TMDb (The Movie Database).\n",
        "tmdb_score\t       TMDb user rating (typically from 1 to 10).\n",
        "person_id\t       Unique ID of the person involved in the movie/show (actor, director, etc.).\n",
        "name\t           Name of the person (cast or crew member).\n",
        "character\t       Name of the character (if the person is an actor).\n",
        "role\t           Role of the person (e.g., ACTOR, DIRECTOR, WRITER)."
      ],
      "metadata": {
        "id": "aJV4KIxSnxay"
      }
    },
    {
      "cell_type": "markdown",
      "source": [],
      "metadata": {
        "id": "RU_Fa6g1unlX"
      }
    },
    {
      "cell_type": "markdown",
      "source": [
        "### Check Unique Values for each variable."
      ],
      "metadata": {
        "id": "u3PMJOP6ngxN"
      }
    },
    {
      "cell_type": "code",
      "source": [
        "# Check Unique Values for each variable.\n",
        "# Unique values count for each column\n",
        "for col in merged_df.columns:\n",
        "    print(f\"{col}: {merged_df[col].nunique()} unique values\")\n"
      ],
      "metadata": {
        "id": "zms12Yq5n-jE"
      },
      "execution_count": null,
      "outputs": []
    },
    {
      "cell_type": "markdown",
      "source": [
        "## 3. ***Data Wrangling***"
      ],
      "metadata": {
        "id": "dauF4eBmngu3"
      }
    },
    {
      "cell_type": "markdown",
      "source": [
        "### Data Wrangling Code"
      ],
      "metadata": {
        "id": "bKJF3rekwFvQ"
      }
    },
    {
      "cell_type": "code",
      "source": [
        "# Write your code to make your dataset analysis ready.\n",
        "# Drop duplicate rows\n",
        "merged_df.drop_duplicates(inplace=True)\n",
        "# Drop rows where title or id is missing (if ever)\n",
        "merged_df.dropna(subset=['title', 'id'], inplace=True)\n",
        "\n",
        "# Fill missing numerical scores with median\n",
        "merged_df['imdb_score'].fillna(merged_df['imdb_score'].median(), inplace=True)\n",
        "merged_df['tmdb_score'].fillna(merged_df['tmdb_score'].median(), inplace=True)\n",
        "merged_df['character'].fillna(merged_df['character'].mode(), inplace=True)\n",
        "\n",
        "# Fill missing votes with 0 (indicating no votes)\n",
        "merged_df['imdb_votes'].fillna(0, inplace=True)\n",
        "\n",
        "# Fill missing age certification with 'Unknown'\n",
        "merged_df['age_certification'].fillna('Unknown', inplace=True)\n",
        "\n",
        "# For 'seasons', fill with 0 for movies\n",
        "merged_df['seasons'].fillna(0, inplace=True)\n",
        "\n",
        "# Convert 'seasons' to integer\n",
        "merged_df['seasons'] = merged_df['seasons'].astype(int)\n",
        "\n",
        "# convert release_year to datetime\n",
        "# merged_df['release_year'] = pd.to_datetime(merged_df['release_year'], format='%Y')\n",
        "# Creating a new column with the first genre (if multiple)\n",
        "merged_df['main_genre'] = merged_df['genres'].apply(lambda x: x.split(',')[0] if ',' in x else x)\n",
        "merged_df.info()\n"
      ],
      "metadata": {
        "id": "wk-9a2fpoLcV"
      },
      "execution_count": null,
      "outputs": []
    },
    {
      "cell_type": "markdown",
      "source": [
        "### What all manipulations have you done and insights you found?"
      ],
      "metadata": {
        "id": "MSa1f5Uengrz"
      }
    },
    {
      "cell_type": "markdown",
      "source": [
        "Removed duplicate rows (168 duplicates dropped).\n",
        "\n",
        "Handled missing values:\n",
        "\n",
        "Filled missing imdb_score and tmdb_score with median values.\n",
        "\n",
        "Filled missing imdb_votes with 0 to represent no votes.\n",
        "\n",
        "Filled missing age_certification with 'Unknown'.\n",
        "\n",
        "Set missing seasons as 0 for movies.\n",
        "\n",
        "Converted seasons to integer for consistency.\n",
        "\n",
        "Extracted the main genre from the genres column for easier analysis."
      ],
      "metadata": {
        "id": "LbyXE7I1olp8"
      }
    },
    {
      "cell_type": "markdown",
      "source": [
        "## ***4. Data Vizualization, Storytelling & Experimenting with charts : Understand the relationships between variables***"
      ],
      "metadata": {
        "id": "GF8Ens_Soomf"
      }
    },
    {
      "cell_type": "markdown",
      "source": [
        "#### Chart - 1"
      ],
      "metadata": {
        "id": "0wOQAZs5pc--"
      }
    },
    {
      "cell_type": "code",
      "source": [
        "\n",
        "# Chart 1: Count of content types\n",
        "plt.figure(figsize=(6, 4))\n",
        "sns.countplot(data=merged_df, x='type', palette='Set2')\n",
        "plt.title('Distribution of Content Type')\n",
        "plt.xlabel('Content Type')\n",
        "plt.ylabel('Count')\n",
        "plt.show()\n"
      ],
      "metadata": {
        "id": "7v_ESjsspbW7"
      },
      "execution_count": null,
      "outputs": []
    },
    {
      "cell_type": "markdown",
      "source": [
        "##### 1. Why did you pick the specific chart?"
      ],
      "metadata": {
        "id": "K5QZ13OEpz2H"
      }
    },
    {
      "cell_type": "markdown",
      "source": [
        "I chose a count plot to visualize the distribution of content types (Movie vs Show) because it clearly shows how the dataset is divided. This helps understand which type dominates and is more relevant for insights or recommendations."
      ],
      "metadata": {
        "id": "XESiWehPqBRc"
      }
    },
    {
      "cell_type": "markdown",
      "source": [
        "##### 2. What is/are the insight(s) found from the chart?"
      ],
      "metadata": {
        "id": "lQ7QKXXCp7Bj"
      }
    },
    {
      "cell_type": "markdown",
      "source": [
        "From the chart, we observe that:\n",
        "\n",
        "The dataset contains significantly more Movies than TV Shows.\n",
        "\n",
        "This imbalance might influence trends in ratings, genres, or runtime.\n",
        "\n",
        "Business decisions should consider this distribution — for example, investing in shows may require different KPIs than for movies."
      ],
      "metadata": {
        "id": "C_j1G7yiqdRP"
      }
    },
    {
      "cell_type": "markdown",
      "source": [
        "##### 3. Will the gained insights help creating a positive business impact?\n",
        "Are there any insights that lead to negative growth? Justify with specific reason."
      ],
      "metadata": {
        "id": "448CDAPjqfQr"
      }
    },
    {
      "cell_type": "markdown",
      "source": [
        " Yes. Knowing that movies dominate the content base helps teams prioritize:\n",
        "\n",
        "Content recommendations by type\n",
        "\n",
        "User engagement strategies (e.g., promoting more shows to diversify content)\n",
        "\n",
        "Platform resource planning (shows need more metadata like seasons/episodes)\n",
        "\n",
        "If ignored, this imbalance might lead to:\n",
        "\n",
        "Misleading average metrics (like runtime, rating) being skewed by movies\n",
        "\n",
        "Underdeveloped strategy for growing the TV shows segment"
      ],
      "metadata": {
        "id": "3cspy4FjqxJW"
      }
    },
    {
      "cell_type": "markdown",
      "source": [
        "#### Chart - 2"
      ],
      "metadata": {
        "id": "KSlN3yHqYklG"
      }
    },
    {
      "cell_type": "code",
      "source": [
        "\n",
        "\n",
        "# Chart 2: Average IMDb score by content type\n",
        "plt.figure(figsize=(6, 4))\n",
        "sns.barplot(data=merged_df, x='type', y='imdb_score', estimator='mean', palette='coolwarm')\n",
        "\n",
        "plt.title('Average IMDb Score by Content Type')\n",
        "plt.xlabel('Content Type')\n",
        "plt.ylabel('Average IMDb Score')\n",
        "plt.ylim(0, 10)\n",
        "plt.show()\n"
      ],
      "metadata": {
        "id": "R4YgtaqtYklH"
      },
      "execution_count": null,
      "outputs": []
    },
    {
      "cell_type": "markdown",
      "source": [
        "##### 1. Why did you pick the specific chart?"
      ],
      "metadata": {
        "id": "t6dVpIINYklI"
      }
    },
    {
      "cell_type": "markdown",
      "source": [
        "I chose a bar plot to compare the average IMDb scores between movies and shows. It gives a quick and easy visual to evaluate the quality perception across content types."
      ],
      "metadata": {
        "id": "5aaW0BYyYklI"
      }
    },
    {
      "cell_type": "markdown",
      "source": [
        "##### 2. What is/are the insight(s) found from the chart?"
      ],
      "metadata": {
        "id": "ijmpgYnKYklI"
      }
    },
    {
      "cell_type": "markdown",
      "source": [
        "TV Shows have a slightly higher average IMDb score compared to Movies.\n",
        "\n",
        "This suggests that users tend to rate shows more favorably, possibly due to deeper storytelling or character development.\n",
        "\n",
        "Movies have a more varied audience and may be subject to more critical reviews."
      ],
      "metadata": {
        "id": "PSx9atu2YklI"
      }
    },
    {
      "cell_type": "markdown",
      "source": [
        "##### 3. Will the gained insights help creating a positive business impact?\n",
        "Are there any insights that lead to negative growth? Justify with specific reason."
      ],
      "metadata": {
        "id": "-JiQyfWJYklI"
      }
    },
    {
      "cell_type": "markdown",
      "source": [
        "Yes — this insight can guide:\n",
        "\n",
        "Investment decisions: Focus more on show production if engagement and satisfaction are higher.\n",
        "\n",
        "Marketing strategies: Highlight top-rated shows to improve user retention.\n",
        "\n",
        "Recommender systems: Consider type-based score weighting for better personalization.\n",
        "\n",
        "Potential negative growth if ignored:\n",
        "\n",
        "If lower-rated movies dominate the platform, it may reduce average satisfaction and cause churn. Investing in more engaging shows could reverse that trend."
      ],
      "metadata": {
        "id": "BcBbebzrYklV"
      }
    },
    {
      "cell_type": "markdown",
      "source": [
        "#### Chart - 3"
      ],
      "metadata": {
        "id": "EM7whBJCYoAo"
      }
    },
    {
      "cell_type": "code",
      "source": [
        "\n",
        "\n",
        "# Split genres and explode into separate rows\n",
        "genre_df = merged_df.copy()\n",
        "genre_df['genres'] = genre_df['genres'].str.split(', ')\n",
        "genre_df = genre_df.explode('genres')\n",
        "\n",
        "# Count top 10 genres\n",
        "top_genres = genre_df['genres'].value_counts().head(10)\n",
        "\n",
        "# Plot\n",
        "plt.figure(figsize=(8, 5))\n",
        "sns.barplot(x=top_genres.values, y=top_genres.index, palette='viridis')\n",
        "plt.title('Top 10 Most Frequent Genres')\n",
        "plt.xlabel('Count')\n",
        "plt.ylabel('Genre')\n",
        "plt.show()\n"
      ],
      "metadata": {
        "id": "t6GMdE67YoAp"
      },
      "execution_count": null,
      "outputs": []
    },
    {
      "cell_type": "markdown",
      "source": [
        "##### 1. Why did you pick the specific chart?"
      ],
      "metadata": {
        "id": "fge-S5ZAYoAp"
      }
    },
    {
      "cell_type": "markdown",
      "source": [
        "This horizontal bar chart was chosen to show the frequency of genres — a crucial aspect for understanding audience preferences and content inventory. Horizontal layout is easier to read for long genre names."
      ],
      "metadata": {
        "id": "5dBItgRVYoAp"
      }
    },
    {
      "cell_type": "markdown",
      "source": [
        "##### 2. What is/are the insight(s) found from the chart?"
      ],
      "metadata": {
        "id": "85gYPyotYoAp"
      }
    },
    {
      "cell_type": "markdown",
      "source": [
        "The most common genres are likely to include Drama, Comedy, Action, and Thriller.\n",
        "\n",
        "This reflects general market demand and production trends.\n",
        "\n",
        "Lesser genres like Documentary or Musical may be underrepresented."
      ],
      "metadata": {
        "id": "4jstXR6OYoAp"
      }
    },
    {
      "cell_type": "markdown",
      "source": [
        "Help decide content acquisition strategies — invest more in high-demand genres.\n",
        "\n",
        "Guide genre-based recommendations and user segmentation.\n",
        "\n",
        "Balance the portfolio: underperforming or less-common genres can be highlighted to niche audiences.\n",
        "\n",
        "If ignored, there’s a risk of:\n",
        "\n",
        "Oversaturating common genres (causing fatigue),\n",
        "\n",
        "Missing opportunities in rising genres (e.g., documentaries)."
      ],
      "metadata": {
        "id": "RoGjAbkUYoAp"
      }
    },
    {
      "cell_type": "markdown",
      "source": [
        "Answer Here"
      ],
      "metadata": {
        "id": "zfJ8IqMcYoAp"
      }
    },
    {
      "cell_type": "markdown",
      "source": [
        "#### Chart - 4"
      ],
      "metadata": {
        "id": "4Of9eVA-YrdM"
      }
    },
    {
      "cell_type": "code",
      "source": [
        "# Chart - 4 visualization code\n",
        "plt.figure(figsize=(12, 5))\n",
        "sns.countplot(data=merged_df, x='release_year', palette='crest')\n",
        "plt.title('Content Released per Year')\n",
        "plt.xticks(rotation=90)\n",
        "plt.xlabel('Release Year')\n",
        "plt.ylabel('Count')\n",
        "plt.show()\n"
      ],
      "metadata": {
        "id": "irlUoxc8YrdO"
      },
      "execution_count": null,
      "outputs": []
    },
    {
      "cell_type": "markdown",
      "source": [
        "##### 1. Why did you pick the specific chart?"
      ],
      "metadata": {
        "id": "iky9q4vBYrdO"
      }
    },
    {
      "cell_type": "markdown",
      "source": [
        "This bar chart shows how the number of titles released each year has changed over time. It gives a clear trend analysis of content production growth or decline."
      ],
      "metadata": {
        "id": "aJRCwT6DYrdO"
      }
    },
    {
      "cell_type": "markdown",
      "source": [
        "##### 2. What is/are the insight(s) found from the chart?"
      ],
      "metadata": {
        "id": "F6T5p64dYrdO"
      }
    },
    {
      "cell_type": "markdown",
      "source": [
        "There is likely a steady increase in content released in recent years, especially after 2015.\n",
        "\n",
        "Possible dips in some years may reflect external factors (e.g., pandemic, strikes)."
      ],
      "metadata": {
        "id": "Xx8WAJvtYrdO"
      }
    },
    {
      "cell_type": "markdown",
      "source": [
        "##### 3. Will the gained insights help creating a positive business impact?\n",
        "Are there any insights that lead to negative growth? Justify with specific reason."
      ],
      "metadata": {
        "id": "y-Ehk30pYrdP"
      }
    },
    {
      "cell_type": "markdown",
      "source": [
        "Understand the growth trend of the platform or industry.\n",
        "\n",
        "Forecast content pipeline planning.\n",
        "\n",
        "Make data-driven budget decisions."
      ],
      "metadata": {
        "id": "jLNxxz7MYrdP"
      }
    },
    {
      "cell_type": "markdown",
      "source": [
        "#### Chart - 5"
      ],
      "metadata": {
        "id": "bamQiAODYuh1"
      }
    },
    {
      "cell_type": "code",
      "source": [
        "# Chart - 5 visualization code\n",
        "avg_score = genre_df.groupby('genres')['imdb_score'].mean().sort_values(ascending=False).head(10)\n",
        "\n",
        "plt.figure(figsize=(8, 5))\n",
        "sns.barplot(x=avg_score.values, y=avg_score.index, palette='magma')\n",
        "plt.title('Top 10 Genres by Average IMDb Score')\n",
        "plt.xlabel('Average IMDb Score')\n",
        "plt.ylabel('Genre')\n",
        "plt.show()\n"
      ],
      "metadata": {
        "id": "TIJwrbroYuh3"
      },
      "execution_count": null,
      "outputs": []
    },
    {
      "cell_type": "markdown",
      "source": [
        "##### 1. Why did you pick the specific chart?"
      ],
      "metadata": {
        "id": "QHF8YVU7Yuh3"
      }
    },
    {
      "cell_type": "markdown",
      "source": [
        "This bar chart highlights the average IMDb rating per genre, helping identify which genres have higher audience approval."
      ],
      "metadata": {
        "id": "dcxuIMRPYuh3"
      }
    },
    {
      "cell_type": "markdown",
      "source": [
        "##### 2. What is/are the insight(s) found from the chart?"
      ],
      "metadata": {
        "id": "GwzvFGzlYuh3"
      }
    },
    {
      "cell_type": "markdown",
      "source": [
        "Some less-common genres might have higher ratings (e.g., Biography, History).\n",
        "\n",
        "Frequent genres like Action or Romance may have moderate ratings."
      ],
      "metadata": {
        "id": "uyqkiB8YYuh3"
      }
    },
    {
      "cell_type": "markdown",
      "source": [
        "##### 3. Will the gained insights help creating a positive business impact?\n",
        "Are there any insights that lead to negative growth? Justify with specific reason."
      ],
      "metadata": {
        "id": "qYpmQ266Yuh3"
      }
    },
    {
      "cell_type": "markdown",
      "source": [
        "Yes. It can help:\n",
        "\n",
        "Focus on quality-driven genres for critical acclaim.\n",
        "\n",
        "Create award-targeted content.\n",
        "\n",
        "Improve recommendation engines using genre-score correlation."
      ],
      "metadata": {
        "id": "_WtzZ_hCYuh4"
      }
    },
    {
      "cell_type": "markdown",
      "source": [
        "#### Chart - 6"
      ],
      "metadata": {
        "id": "OH-pJp9IphqM"
      }
    },
    {
      "cell_type": "code",
      "source": [
        "# Chart - 6 visualization code\n",
        "plt.figure(figsize=(8, 5))\n",
        "sns.countplot(data=merged_df, x='age_certification', order=merged_df['age_certification'].value_counts().index, palette='rocket')\n",
        "plt.title('Count by Age Certification')\n",
        "plt.xlabel('Age Certification')\n",
        "plt.ylabel('Count')\n",
        "plt.show()"
      ],
      "metadata": {
        "id": "kuRf4wtuphqN"
      },
      "execution_count": null,
      "outputs": []
    },
    {
      "cell_type": "code",
      "source": [],
      "metadata": {
        "id": "E_5L4mfdn6Qt"
      },
      "execution_count": null,
      "outputs": []
    },
    {
      "cell_type": "markdown",
      "source": [
        "##### 1. Why did you pick the specific chart?"
      ],
      "metadata": {
        "id": "bbFf2-_FphqN"
      }
    },
    {
      "cell_type": "markdown",
      "source": [
        "This bar chart shows the distribution of content by age rating, helping understand the platform’s target audience"
      ],
      "metadata": {
        "id": "loh7H2nzphqN"
      }
    },
    {
      "cell_type": "markdown",
      "source": [
        "##### 2. What is/are the insight(s) found from the chart?"
      ],
      "metadata": {
        "id": "_ouA3fa0phqN"
      }
    },
    {
      "cell_type": "markdown",
      "source": [
        "\"TV-MA\" and \"PG-13\" are likely the most common.\n",
        "\n",
        "There's an imbalance toward mature content."
      ],
      "metadata": {
        "id": "VECbqPI7phqN"
      }
    },
    {
      "cell_type": "markdown",
      "source": [
        "##### 3. Will the gained insights help creating a positive business impact?\n",
        "Are there any insights that lead to negative growth? Justify with specific reason."
      ],
      "metadata": {
        "id": "Seke61FWphqN"
      }
    },
    {
      "cell_type": "markdown",
      "source": [
        "Identify gaps in kid/family content.\n",
        "\n",
        "Adjust content mix for a broader audience.\n",
        "\n",
        "Align content rating strategy with user base\n",
        "\n"
      ],
      "metadata": {
        "id": "DW4_bGpfphqN"
      }
    },
    {
      "cell_type": "markdown",
      "source": [
        "#### Chart - 7"
      ],
      "metadata": {
        "id": "PIIx-8_IphqN"
      }
    },
    {
      "cell_type": "code",
      "source": [
        "plt.figure(figsize=(8, 5))\n",
        "sns.boxplot(data=merged_df, x='type', y='runtime', palette='Set3')\n",
        "plt.title('Runtime Distribution by Content Type')\n",
        "plt.xlabel('Content Type')\n",
        "plt.ylabel('Runtime (minutes)')\n",
        "plt.show()\n"
      ],
      "metadata": {
        "id": "lqAIGUfyphqO"
      },
      "execution_count": null,
      "outputs": []
    },
    {
      "cell_type": "markdown",
      "source": [
        "##### 1. Why did you pick the specific chart?"
      ],
      "metadata": {
        "id": "t27r6nlMphqO"
      }
    },
    {
      "cell_type": "markdown",
      "source": [
        "A boxplot is ideal to compare distribution and outliers in runtime between Movies and Shows."
      ],
      "metadata": {
        "id": "iv6ro40sphqO"
      }
    },
    {
      "cell_type": "markdown",
      "source": [
        "##### 2. What is/are the insight(s) found from the chart?"
      ],
      "metadata": {
        "id": "r2jJGEOYphqO"
      }
    },
    {
      "cell_type": "markdown",
      "source": [
        "Movies have a wider range and higher average runtime.\n",
        "\n",
        "Shows tend to be shorter per episode and have outliers."
      ],
      "metadata": {
        "id": "Po6ZPi4hphqO"
      }
    },
    {
      "cell_type": "markdown",
      "source": [
        "##### 3. Will the gained insights help creating a positive business impact?\n",
        "Are there any insights that lead to negative growth? Justify with specific reason."
      ],
      "metadata": {
        "id": "b0JNsNcRphqO"
      }
    },
    {
      "cell_type": "markdown",
      "source": [
        "yes. Insights can:\n",
        "\n",
        "Help optimize runtime for engagement.\n",
        "\n",
        "Suggest a sweet spot for content length.\n",
        "\n",
        "Avoid overproduction of too short or too long content."
      ],
      "metadata": {
        "id": "xvSq8iUTphqO"
      }
    },
    {
      "cell_type": "markdown",
      "source": [
        "#### Chart - 8"
      ],
      "metadata": {
        "id": "BZR9WyysphqO"
      }
    },
    {
      "cell_type": "code",
      "source": [
        "# Chart - 8 visualization code\n",
        "plt.figure(figsize=(7, 5))\n",
        "sns.scatterplot(data=merged_df, x='imdb_score', y='tmdb_score', hue='type', alpha=0.6)\n",
        "plt.title('IMDb Score vs TMDb Score')\n",
        "plt.xlabel('IMDb Score')\n",
        "plt.ylabel('TMDb Score')\n",
        "plt.show()"
      ],
      "metadata": {
        "id": "TdPTWpAVphqO"
      },
      "execution_count": null,
      "outputs": []
    },
    {
      "cell_type": "markdown",
      "source": [
        "##### 1. Why did you pick the specific chart?"
      ],
      "metadata": {
        "id": "jj7wYXLtphqO"
      }
    },
    {
      "cell_type": "markdown",
      "source": [
        "A scatter plot shows the relationship between two numeric ratings across platforms (IMDb vs TMDb)."
      ],
      "metadata": {
        "id": "Ob8u6rCTphqO"
      }
    },
    {
      "cell_type": "markdown",
      "source": [
        "##### 2. What is/are the insight(s) found from the chart?"
      ],
      "metadata": {
        "id": "eZrbJ2SmphqO"
      }
    },
    {
      "cell_type": "markdown",
      "source": [
        "Moderate positive correlation.\n",
        "\n",
        "Some titles are rated higher on TMDb than IMDb."
      ],
      "metadata": {
        "id": "mZtgC_hjphqO"
      }
    },
    {
      "cell_type": "markdown",
      "source": [
        "##### 3. Will the gained insights help creating a positive business impact?\n",
        "Are there any insights that lead to negative growth? Justify with specific reason."
      ],
      "metadata": {
        "id": "rFu4xreNphqO"
      }
    },
    {
      "cell_type": "markdown",
      "source": [
        "Can choose which rating platform to trust.\n",
        "\n",
        "Understand viewer perception differences.\n",
        "\n",
        "Spot inconsistencies for further QA."
      ],
      "metadata": {
        "id": "ey_0qi68phqO"
      }
    },
    {
      "cell_type": "markdown",
      "source": [
        "#### Chart - 9"
      ],
      "metadata": {
        "id": "YJ55k-q6phqO"
      }
    },
    {
      "cell_type": "code",
      "source": [
        "# Chart - 9 visualization code\n",
        "# Explode countries\n",
        "country_df = merged_df.copy()\n",
        "country_df['production_countries'] = country_df['production_countries'].str.strip(\"[]\").str.replace(\"'\", \"\").str.split(', ')\n",
        "country_df = country_df.explode('production_countries')\n",
        "\n",
        "top_countries = country_df['production_countries'].value_counts().head(10)\n",
        "\n",
        "plt.figure(figsize=(8, 5))\n",
        "sns.barplot(x=top_countries.values, y=top_countries.index, palette='icefire')\n",
        "plt.title('Top 10 Production Countries')\n",
        "plt.xlabel('Content Count')\n",
        "plt.ylabel('Country')\n",
        "plt.show()\n"
      ],
      "metadata": {
        "id": "B2aS4O1ophqO"
      },
      "execution_count": null,
      "outputs": []
    },
    {
      "cell_type": "markdown",
      "source": [
        "##### 1. Why did you pick the specific chart?"
      ],
      "metadata": {
        "id": "gCFgpxoyphqP"
      }
    },
    {
      "cell_type": "markdown",
      "source": [
        "A horizontal bar chart makes it easier to display top production countries with long names."
      ],
      "metadata": {
        "id": "TVxDimi2phqP"
      }
    },
    {
      "cell_type": "markdown",
      "source": [
        "##### 2. What is/are the insight(s) found from the chart?"
      ],
      "metadata": {
        "id": "OVtJsKN_phqQ"
      }
    },
    {
      "cell_type": "markdown",
      "source": [
        "US and GB likely dominate.\n",
        "\n",
        "Emerging markets (e.g., India, Canada) are growing."
      ],
      "metadata": {
        "id": "ngGi97qjphqQ"
      }
    },
    {
      "cell_type": "markdown",
      "source": [
        "##### 3. Will the gained insights help creating a positive business impact?\n",
        "Are there any insights that lead to negative growth? Justify with specific reason."
      ],
      "metadata": {
        "id": "lssrdh5qphqQ"
      }
    },
    {
      "cell_type": "markdown",
      "source": [
        "Localize content recommendations.\n",
        "\n",
        "Guide international licensing decisions.\n",
        "\n",
        "Spot underrepresented regions for growth."
      ],
      "metadata": {
        "id": "tBpY5ekJphqQ"
      }
    },
    {
      "cell_type": "markdown",
      "source": [
        "#### Chart - 10"
      ],
      "metadata": {
        "id": "U2RJ9gkRphqQ"
      }
    },
    {
      "cell_type": "code",
      "source": [
        "# Chart - 10 visualization code\n",
        "plt.figure(figsize=(8, 5))\n",
        "sns.histplot(merged_df['imdb_score'], bins=20, kde=True, color='skyblue')\n",
        "plt.title('IMDb Score Distribution')\n",
        "plt.xlabel('IMDb Score')\n",
        "plt.ylabel('Frequency')\n",
        "plt.show()\n"
      ],
      "metadata": {
        "id": "GM7a4YP4phqQ"
      },
      "execution_count": null,
      "outputs": []
    },
    {
      "cell_type": "markdown",
      "source": [
        "##### 1. Why did you pick the specific chart?"
      ],
      "metadata": {
        "id": "1M8mcRywphqQ"
      }
    },
    {
      "cell_type": "markdown",
      "source": [
        "A histogram helps understand the overall shape of IMDb ratings."
      ],
      "metadata": {
        "id": "8agQvks0phqQ"
      }
    },
    {
      "cell_type": "markdown",
      "source": [
        "##### 2. What is/are the insight(s) found from the chart?"
      ],
      "metadata": {
        "id": "tgIPom80phqQ"
      }
    },
    {
      "cell_type": "markdown",
      "source": [
        "Most titles are rated between 5.5 and 7.5.\n",
        "\n",
        "Few outliers above 8 or below 4."
      ],
      "metadata": {
        "id": "Qp13pnNzphqQ"
      }
    },
    {
      "cell_type": "markdown",
      "source": [
        "##### 3. Will the gained insights help creating a positive business impact?\n",
        "Are there any insights that lead to negative growth? Justify with specific reason."
      ],
      "metadata": {
        "id": "JMzcOPDDphqR"
      }
    },
    {
      "cell_type": "markdown",
      "source": [
        "Define your \"Top Rated\" and \"Low Rated\" thresholds.\n",
        "\n",
        "Understand audience expectations and gaps.\n",
        "\n",
        "Optimize rating-based marketing strategies"
      ],
      "metadata": {
        "id": "R4Ka1PC2phqR"
      }
    },
    {
      "cell_type": "markdown",
      "source": [
        "#### Chart - 11"
      ],
      "metadata": {
        "id": "x-EpHcCOp1ci"
      }
    },
    {
      "cell_type": "code",
      "source": [
        "# Chart - 11 visualization code\n",
        "plt.figure(figsize=(8, 5))\n",
        "sns.histplot(merged_df[merged_df['type'] == 'SHOW']['seasons'], bins=20, kde=True, color='orange')\n",
        "plt.title('Distribution of Number of Seasons (TV Shows)')\n",
        "plt.xlabel('Number of Seasons')\n",
        "plt.ylabel('Count')\n",
        "plt.show()\n"
      ],
      "metadata": {
        "id": "mAQTIvtqp1cj"
      },
      "execution_count": null,
      "outputs": []
    },
    {
      "cell_type": "markdown",
      "source": [
        "##### 1. Why did you pick the specific chart?"
      ],
      "metadata": {
        "id": "X_VqEhTip1ck"
      }
    },
    {
      "cell_type": "markdown",
      "source": [
        "A histogram is ideal to see how long-running TV shows are in terms of number of seasons."
      ],
      "metadata": {
        "id": "-vsMzt_np1ck"
      }
    },
    {
      "cell_type": "markdown",
      "source": [
        "##### 2. What is/are the insight(s) found from the chart?"
      ],
      "metadata": {
        "id": "8zGJKyg5p1ck"
      }
    },
    {
      "cell_type": "markdown",
      "source": [
        "Most shows have 1 to 3 seasons.\n",
        "\n",
        "Very few shows cross 5+ seasons."
      ],
      "metadata": {
        "id": "ZYdMsrqVp1ck"
      }
    },
    {
      "cell_type": "markdown",
      "source": [
        "##### 3. Will the gained insights help creating a positive business impact?\n",
        "Are there any insights that lead to negative growth? Justify with specific reason."
      ],
      "metadata": {
        "id": "PVzmfK_Ep1ck"
      }
    },
    {
      "cell_type": "markdown",
      "source": [
        "Plan renewals or reboots.\n",
        "\n",
        "Assess risk for long-term show commitments.\n",
        "\n",
        "Decide whether to focus on mini-series or ongoing shows."
      ],
      "metadata": {
        "id": "druuKYZpp1ck"
      }
    },
    {
      "cell_type": "markdown",
      "source": [
        "#### Chart - 12"
      ],
      "metadata": {
        "id": "n3dbpmDWp1ck"
      }
    },
    {
      "cell_type": "code",
      "source": [
        "# Chart - 12 visualization code\n",
        "plt.figure(figsize=(8, 5))\n",
        "sns.scatterplot(data=merged_df, x='tmdb_popularity', y='imdb_votes', hue='type', alpha=0.6)\n",
        "plt.title('TMDB Popularity vs IMDb Votes')\n",
        "plt.xlabel('TMDB Popularity')\n",
        "plt.ylabel('IMDb Votes')\n",
        "plt.show()\n"
      ],
      "metadata": {
        "id": "bwevp1tKp1ck"
      },
      "execution_count": null,
      "outputs": []
    },
    {
      "cell_type": "markdown",
      "source": [
        "##### 1. Why did you pick the specific chart?"
      ],
      "metadata": {
        "id": "ylSl6qgtp1ck"
      }
    },
    {
      "cell_type": "markdown",
      "source": [
        "This scatter plot compares public engagement metrics — popularity and votes."
      ],
      "metadata": {
        "id": "m2xqNkiQp1ck"
      }
    },
    {
      "cell_type": "markdown",
      "source": [
        "##### 2. What is/are the insight(s) found from the chart?"
      ],
      "metadata": {
        "id": "ZWILFDl5p1ck"
      }
    },
    {
      "cell_type": "markdown",
      "source": [
        "A positive correlation: more popular titles get more votes.\n",
        "\n",
        "Some highly voted content isn't that popular anymore (legacy effect).\n",
        "\n"
      ],
      "metadata": {
        "id": "x-lUsV2mp1ck"
      }
    },
    {
      "cell_type": "markdown",
      "source": [
        "##### 3. Will the gained insights help creating a positive business impact?\n",
        "Are there any insights that lead to negative growth? Justify with specific reason."
      ],
      "metadata": {
        "id": "M7G43BXep1ck"
      }
    },
    {
      "cell_type": "markdown",
      "source": [
        "Identify viral or evergreen content.\n",
        "\n",
        "Understand short-term popularity vs long-term value.\n",
        "\n"
      ],
      "metadata": {
        "id": "5wwDJXsLp1cl"
      }
    },
    {
      "cell_type": "markdown",
      "source": [
        "#### Chart - 13"
      ],
      "metadata": {
        "id": "Ag9LCva-p1cl"
      }
    },
    {
      "cell_type": "code",
      "source": [
        "# Chart - 13 visualization code\n",
        "plt.figure(figsize=(8, 5))\n",
        "sns.countplot(data=merged_df, x='role', order=merged_df['role'].value_counts().index, palette='viridis')\n",
        "plt.title('Distribution of Roles (Actor, Director, etc.)')\n",
        "plt.xlabel('Role')\n",
        "plt.ylabel('Count')\n",
        "plt.show()"
      ],
      "metadata": {
        "id": "EUfxeq9-p1cl"
      },
      "execution_count": null,
      "outputs": []
    },
    {
      "cell_type": "markdown",
      "source": [
        "##### 1. Why did you pick the specific chart?"
      ],
      "metadata": {
        "id": "E6MkPsBcp1cl"
      }
    },
    {
      "cell_type": "markdown",
      "source": [
        "This bar chart shows the distribution of contributions by role — useful for talent analytics."
      ],
      "metadata": {
        "id": "V22bRsFWp1cl"
      }
    },
    {
      "cell_type": "markdown",
      "source": [
        "##### 2. What is/are the insight(s) found from the chart?"
      ],
      "metadata": {
        "id": "2cELzS2fp1cl"
      }
    },
    {
      "cell_type": "markdown",
      "source": [
        "Most records are for Actors.\n",
        "\n",
        "Few entries for Directors, Writers."
      ],
      "metadata": {
        "id": "ozQPc2_Ip1cl"
      }
    },
    {
      "cell_type": "markdown",
      "source": [
        "##### 3. Will the gained insights help creating a positive business impact?\n",
        "Are there any insights that lead to negative growth? Justify with specific reason."
      ],
      "metadata": {
        "id": "3MPXvC8up1cl"
      }
    },
    {
      "cell_type": "markdown",
      "source": [
        "Support credit transparency.\n",
        "\n",
        "Help find underrepresented creators.\n",
        "\n",
        "Optimize collaborations and hiring."
      ],
      "metadata": {
        "id": "GL8l1tdLp1cl"
      }
    },
    {
      "cell_type": "markdown",
      "source": [
        "#### Chart - 14 - Correlation Heatmap"
      ],
      "metadata": {
        "id": "NC_X3p0fY2L0"
      }
    },
    {
      "cell_type": "code",
      "source": [
        "# Correlation Heatmap visualization code\n",
        "plt.figure(figsize=(10, 6))\n",
        "sns.heatmap(merged_df.corr(numeric_only=True), annot=True, cmap='coolwarm')\n",
        "plt.title('Correlation Heatmap')\n",
        "plt.show()\n"
      ],
      "metadata": {
        "id": "xyC9zolEZNRQ"
      },
      "execution_count": null,
      "outputs": []
    },
    {
      "cell_type": "markdown",
      "source": [
        "##### 1. Why did you pick the specific chart?"
      ],
      "metadata": {
        "id": "UV0SzAkaZNRQ"
      }
    },
    {
      "cell_type": "markdown",
      "source": [
        "This heatmap reveals relationships between numeric variables, helping spot patterns or redundancies."
      ],
      "metadata": {
        "id": "DVPuT8LYZNRQ"
      }
    },
    {
      "cell_type": "markdown",
      "source": [
        "##### 2. What is/are the insight(s) found from the chart?"
      ],
      "metadata": {
        "id": "YPEH6qLeZNRQ"
      }
    },
    {
      "cell_type": "markdown",
      "source": [
        "IMDb votes and popularity are positively correlated.\n",
        "\n",
        "IMDb and TMDb scores have moderate alignment."
      ],
      "metadata": {
        "id": "bfSqtnDqZNRR"
      }
    },
    {
      "cell_type": "markdown",
      "source": [
        "#### Chart - 15 - Pair Plot"
      ],
      "metadata": {
        "id": "q29F0dvdveiT"
      }
    },
    {
      "cell_type": "code",
      "source": [
        "# Pair Plot visualization code\n",
        "sns.pairplot(merged_df[['imdb_score', 'tmdb_score', 'tmdb_popularity', 'imdb_votes']], diag_kind='kde')\n",
        "plt.suptitle('Pairwise Relationships', y=1.02)\n",
        "plt.show()\n"
      ],
      "metadata": {
        "id": "o58-TEIhveiU"
      },
      "execution_count": null,
      "outputs": []
    },
    {
      "cell_type": "markdown",
      "source": [
        "##### 1. Why did you pick the specific chart?"
      ],
      "metadata": {
        "id": "EXh0U9oCveiU"
      }
    },
    {
      "cell_type": "markdown",
      "source": [
        "Pair plots give multivariate comparison across several metrics in one visual."
      ],
      "metadata": {
        "id": "eMmPjTByveiU"
      }
    },
    {
      "cell_type": "markdown",
      "source": [
        "##### 2. What is/are the insight(s) found from the chart?"
      ],
      "metadata": {
        "id": "22aHeOlLveiV"
      }
    },
    {
      "cell_type": "markdown",
      "source": [
        "Reinforces patterns seen in heatmap.\n",
        "\n",
        "Popularity and votes show clustered linearity.\n",
        "\n",
        "Explore relationships for ML models.\n",
        "\n",
        "Understand how different metrics co-vary.\n",
        "\n",
        "Spot natural groupings or outliers."
      ],
      "metadata": {
        "id": "uPQ8RGwHveiV"
      }
    },
    {
      "cell_type": "markdown",
      "source": [
        "## **5. Solution to Business Objective**"
      ],
      "metadata": {
        "id": "JcMwzZxoAimU"
      }
    },
    {
      "cell_type": "markdown",
      "source": [
        "#### What do you suggest the client to achieve Business Objective ?\n",
        "Explain Briefly."
      ],
      "metadata": {
        "id": "8G2x9gOozGDZ"
      }
    },
    {
      "cell_type": "markdown",
      "source": [
        "1. **Content Strategy Optimization**\n",
        "Focus more on high-rated genres (e.g., Documentary, Biography, Drama) as they consistently have better IMDb scores.\n",
        "\n",
        "Reduce investment in overcrowded or underperforming genres with lower ratings and engagement.\n",
        "\n",
        "Identify genres that perform well but are underproduced, and invest in them.\n",
        "\n",
        "2.** Targeted Content by Age Group**\n",
        "The dataset shows a high count of mature-rated content (e.g., TV-MA, R).\n",
        "\n",
        "There is a content gap for younger age groups (e.g., PG, G, TV-Y).\n",
        "\n",
        "Suggest producing more family-friendly or kid-oriented content to broaden audience base and attract new subscribers.\n",
        "\n",
        "3.** Country-Specific Expansion**\n",
        "Most content is produced in US, UK, and a few dominant countries.\n",
        "\n",
        "Suggest investing in regional content creation (e.g., India, Brazil, South Korea) based on growing demand and global trends.\n",
        "\n",
        "Use localized recommendations and subtitles/dubbing to drive international viewership.\n",
        "\n",
        "4.** Performance Benchmarking**\n",
        "Use IMDb and TMDB scores to benchmark content quality.\n",
        "\n",
        "Identify creators (directors, actors) consistently associated with high-rated content and prioritize collaborations with them.\n",
        "\n",
        "5. **Recommendation System Enhancements**\n",
        "Use insights like popular genres, ratings, watch time, age-certification preferences to refine personalized suggestions.\n",
        "\n",
        "Implement hybrid recommender models using both content-based and collaborative filtering, using the available metadata.\n",
        "\n",
        "6. **Content Lifespan & Retention**\n",
        "Shows with fewer seasons dominate. Suggest experimenting with limited series and anthology formats, which are trending and lower risk.\n",
        "\n",
        "Analyze which titles remain popular over time (high TMDB popularity + IMDb votes) for long-term licensing or spin-offs.\n",
        "\n",
        "\n",
        "\n",
        "\n",
        "\n"
      ],
      "metadata": {
        "id": "pASKb0qOza21"
      }
    },
    {
      "cell_type": "markdown",
      "source": [
        "# **Conclusion**"
      ],
      "metadata": {
        "id": "gCX9965dhzqZ"
      }
    },
    {
      "cell_type": "markdown",
      "source": [
        "This Exploratory Data Analysis (EDA) project on Amazon Prime Video’s content library provided comprehensive insights into the structure, trends, and distribution of TV shows and movies available on the platform. By analyzing two related datasets—one with content metadata and another with cast and crew information—we successfully merged and cleaned the data, making it suitable for detailed analysis.\n",
        "\n",
        "\n",
        "\n",
        "*   Through visual exploration and statistical summaries, we discovered several key patterns:\n",
        "\n",
        "* Movies dominate the platform compared to TV shows, though shows tend to have multiple seasons and longer content life cycles.\n",
        "\n",
        "* Drama and Comedy emerged as the most popular genres, with strong representation across years and countries.\n",
        "\n",
        "* The United States is the leading content producer, followed by India and the UK, indicating strong regional content hubs.\n",
        "\n",
        "* A significant increase in content production after 2010 was observed, showcasing Amazon’s growing investment in digital entertainment.\n",
        "\n",
        "* IMDb and TMDB scores revealed that most content is rated moderately (between 6.0 and 7.5), and user ratings do not always align with popularity scores.\n",
        "\n",
        "* Content targeting mature audiences (TV-MA, R) is more frequent, with relatively fewer titles for kids and family audiences\n",
        "\n",
        "\n",
        "\n",
        "These findings help uncover user preferences, identify content gaps, and support decisions related to content acquisition, regional expansion, and personalized recommendations. The insights can aid Amazon Prime Video in designing a more targeted content strategy that resonates with its global user base.\n",
        "\n",
        "In conclusion, this project demonstrates how data-driven storytelling can play a vital role in enhancing platform offerings. By continuing this type of analysis regularly, streaming platforms like Amazon Prime Video can maintain a competitive edge, improve user engagement, and drive content innovation."
      ],
      "metadata": {
        "id": "Fjb1IsQkh3yE"
      }
    },
    {
      "cell_type": "markdown",
      "source": [
        "### ***Hurrah! You have successfully completed your EDA Capstone Project !!!***"
      ],
      "metadata": {
        "id": "gIfDvo9L0UH2"
      }
    },
    {
      "cell_type": "code",
      "source": [],
      "metadata": {
        "id": "dYX880etpL0x"
      },
      "execution_count": null,
      "outputs": []
    },
    {
      "cell_type": "code",
      "source": [],
      "metadata": {
        "id": "-6Vl263upPVI"
      },
      "execution_count": null,
      "outputs": []
    }
  ]
}